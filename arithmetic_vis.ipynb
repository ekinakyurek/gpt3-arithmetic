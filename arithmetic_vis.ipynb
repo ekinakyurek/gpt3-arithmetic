{
 "cells": [
  {
   "cell_type": "code",
   "execution_count": null,
   "metadata": {},
   "outputs": [],
   "source": [
    "import json\n",
    "import glob, os\n",
    "import pandas as pd\n",
    "import seaborn as sns\n",
    "import matplotlib.pyplot as plt\n",
    "# os.chdir(\"results\")"
   ]
  },
  {
   "cell_type": "code",
   "execution_count": null,
   "metadata": {},
   "outputs": [],
   "source": [
    "plt.style.use('~/.mplstyle')\n",
    "plt.rcParams['figure.dpi'] = 150\n",
    "plt.rcParams['savefig.dpi'] = 150\n",
    "plt.rcParams['figure.figsize'] = 12,8"
   ]
  },
  {
   "cell_type": "code",
   "execution_count": null,
   "metadata": {},
   "outputs": [],
   "source": [
    "df = pd.DataFrame(columns=[\"Experiment\", \"Digit\", \"Accuracy\"])\n",
    "for file in glob.glob(\"results/*.json\"):\n",
    "    print(file)\n",
    "    with open(file, \"r\") as f:\n",
    "        d = json.load(f)\n",
    "        name = file.replace(\"results/\", \"\")\n",
    "        for k in ['3','4','5','6']:\n",
    "            df.loc[len(df)] = [name.split('.')[0], k, d[k]['accuracy']]\n",
    "df\n",
    "            "
   ]
  },
  {
   "cell_type": "code",
   "execution_count": null,
   "metadata": {
    "scrolled": true
   },
   "outputs": [],
   "source": [
    "df.sort_values('Accuracy', ascending=False)\n",
    "df = df.loc[df['Experiment'] != 'main_order',:]"
   ]
  },
  {
   "cell_type": "code",
   "execution_count": null,
   "metadata": {},
   "outputs": [],
   "source": [
    "df = df.sort_values('Accuracy', ascending=False)"
   ]
  },
  {
   "cell_type": "code",
   "execution_count": null,
   "metadata": {},
   "outputs": [],
   "source": [
    "df.replace('no_brackets', 'no_brackets_order', inplace=True)"
   ]
  },
  {
   "cell_type": "code",
   "execution_count": null,
   "metadata": {},
   "outputs": [],
   "source": [
    "import numpy as np\n",
    "def show_labels(df):\n",
    "    # label points on the plot\n",
    "    for x, y in zip(df['Experiment'], df['Accuracy']):\n",
    "        # the position of the data label relative to the data point can be adjusted by adding/subtracting a value from the x &/ y coordinates\n",
    "        plt.text(x = x, # x-coordinate position of data label\n",
    "        y = y-150, # y-coordinate position of data label, adjusted to be 150 below the data point\n",
    "        s = '{:.0f}'.format(y), # data label, formatted to ignore decimals\n",
    "        color = 'purple') # set colour of line"
   ]
  },
  {
   "cell_type": "code",
   "execution_count": null,
   "metadata": {},
   "outputs": [],
   "source": [
    "from matplotlib.ticker import MultipleLocator"
   ]
  },
  {
   "cell_type": "code",
   "execution_count": null,
   "metadata": {
    "scrolled": false
   },
   "outputs": [],
   "source": [
    "pdf = df.replace('no_brackets', '(-) Brackets')\n",
    "pdf = pdf.replace('no_starting_from_rightmost_column', '(-) \"Starting from \\nrightmost column\"')\n",
    "pdf = pdf.replace('without_comas_in_the_input', \"(-) Comma\")\n",
    "pdf = pdf.replace('main_reverse_order', \"(-) Correct order\")\n",
    "pdf = pdf.replace('main_correct_order', \"(-) Reverse order\")\n",
    "pdf = pdf.replace('no_instruction', \"(-) Instruction\")\n",
    "pdf = pdf.replace('no_carry_on_indicator', \"(-) (c=carry)\")\n",
    "pdf = pdf.replace('no_write_carry_string', \"(-) write x cary y\")\n",
    "pdf = pdf.replace('no_perfect_calculator', '(-) \"I am a perfect Calculator\"')\n",
    "pdf = pdf.replace('no_left_to_right', '(-) \"Least significant digit to \\nmost significant digit\"')\n",
    "ax = sns.pointplot(data=pdf[pdf['Experiment'] != 'main'], x=\"Experiment\", y=\"Accuracy\", hue='Digit', marker='.', scale = 0.5)\n",
    "plt.title(\"Integer Addition with Ablated Prompts\")\n",
    "plt.xlabel(\"Ablations\")\n",
    "plt.xticks(rotation=40)\n",
    "pdf = pdf.set_index(['Experiment', 'Digit'])\n",
    "ax.axhline(pdf.loc['main', '3'][0], color=sns.color_palette()[0], linestyle='-', linewidth=1)\n",
    "ax.axhline(pdf.loc['main', '4'][0], color=sns.color_palette()[1], linestyle='--', linewidth=1)\n",
    "ax.axhline(pdf.loc['main', '5'][0], color=sns.color_palette()[2], linestyle='--', linewidth=1)\n",
    "ax.axhline(pdf.loc['main', '6'][0], color=sns.color_palette()[3], linestyle='--', linewidth=1)\n",
    "ax.set_yticks(np.linspace(0,0.9,10))"
   ]
  },
  {
   "cell_type": "code",
   "execution_count": null,
   "metadata": {},
   "outputs": [],
   "source": []
  },
  {
   "cell_type": "code",
   "execution_count": null,
   "metadata": {},
   "outputs": [],
   "source": [
    "ax"
   ]
  },
  {
   "cell_type": "code",
   "execution_count": null,
   "metadata": {},
   "outputs": [],
   "source": []
  }
 ],
 "metadata": {
  "interpreter": {
   "hash": "dfcbbdb095fd04733f2caa1ee46f086280634f7e099b632a44d061d405ef507a"
  },
  "kernelspec": {
   "display_name": "Python 3.7.6 ('.venv': venv)",
   "language": "python",
   "name": "python3"
  },
  "language_info": {
   "codemirror_mode": {
    "name": "ipython",
    "version": 3
   },
   "file_extension": ".py",
   "mimetype": "text/x-python",
   "name": "python",
   "nbconvert_exporter": "python",
   "pygments_lexer": "ipython3",
   "version": "3.7.6"
  }
 },
 "nbformat": 4,
 "nbformat_minor": 4
}
